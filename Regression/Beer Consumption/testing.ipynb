{
 "cells": [
  {
   "cell_type": "markdown",
   "metadata": {},
   "source": [
    "# Beer Consumption\n"
   ]
  },
  {
   "cell_type": "markdown",
   "metadata": {},
   "source": [
    "## Overview\n"
   ]
  },
  {
   "cell_type": "code",
   "execution_count": null,
   "metadata": {},
   "outputs": [],
   "source": []
  },
  {
   "cell_type": "markdown",
   "metadata": {},
   "source": [
    "## Importing Libraries"
   ]
  },
  {
   "cell_type": "code",
   "execution_count": 1,
   "metadata": {},
   "outputs": [],
   "source": [
    "import pandas as pd # type: ignore\n",
    "import matplotlib.pyplot as plt # type: ignore\n",
    "import seaborn as sns # type: ignore\n",
    "from sklearn.preprocessing import LabelEncoder # type: ignore\n",
    "from sklearn.model_selection import train_test_split # type: ignore\n",
    "from sklearn.linear_model import LinearRegression, Lasso # type: ignore\n",
    "from sklearn.metrics import r2_score, root_mean_squared_error, mean_absolute_percentage_error # type: ignore"
   ]
  },
  {
   "cell_type": "markdown",
   "metadata": {},
   "source": [
    "## 1. Data Loading"
   ]
  },
  {
   "cell_type": "code",
   "execution_count": 2,
   "metadata": {},
   "outputs": [],
   "source": [
    "df = pd.read_csv('data/Consumo_cerveza_SP.csv')"
   ]
  },
  {
   "cell_type": "markdown",
   "metadata": {},
   "source": [
    "## 2. Data Proprocessing"
   ]
  },
  {
   "cell_type": "markdown",
   "metadata": {},
   "source": [
    "### 2.1 Data Exploring"
   ]
  },
  {
   "cell_type": "code",
   "execution_count": 3,
   "metadata": {},
   "outputs": [
    {
     "data": {
      "text/html": [
       "<div>\n",
       "<style scoped>\n",
       "    .dataframe tbody tr th:only-of-type {\n",
       "        vertical-align: middle;\n",
       "    }\n",
       "\n",
       "    .dataframe tbody tr th {\n",
       "        vertical-align: top;\n",
       "    }\n",
       "\n",
       "    .dataframe thead th {\n",
       "        text-align: right;\n",
       "    }\n",
       "</style>\n",
       "<table border=\"1\" class=\"dataframe\">\n",
       "  <thead>\n",
       "    <tr style=\"text-align: right;\">\n",
       "      <th></th>\n",
       "      <th>Data</th>\n",
       "      <th>Temperatura Media (C)</th>\n",
       "      <th>Temperatura Minima (C)</th>\n",
       "      <th>Temperatura Maxima (C)</th>\n",
       "      <th>Precipitacao (mm)</th>\n",
       "      <th>Final de Semana</th>\n",
       "      <th>Consumo de cerveja (litros)</th>\n",
       "    </tr>\n",
       "  </thead>\n",
       "  <tbody>\n",
       "    <tr>\n",
       "      <th>0</th>\n",
       "      <td>2015-01-01</td>\n",
       "      <td>27,3</td>\n",
       "      <td>23,9</td>\n",
       "      <td>32,5</td>\n",
       "      <td>0</td>\n",
       "      <td>0.0</td>\n",
       "      <td>25.461</td>\n",
       "    </tr>\n",
       "    <tr>\n",
       "      <th>1</th>\n",
       "      <td>2015-01-02</td>\n",
       "      <td>27,02</td>\n",
       "      <td>24,5</td>\n",
       "      <td>33,5</td>\n",
       "      <td>0</td>\n",
       "      <td>0.0</td>\n",
       "      <td>28.972</td>\n",
       "    </tr>\n",
       "    <tr>\n",
       "      <th>2</th>\n",
       "      <td>2015-01-03</td>\n",
       "      <td>24,82</td>\n",
       "      <td>22,4</td>\n",
       "      <td>29,9</td>\n",
       "      <td>0</td>\n",
       "      <td>1.0</td>\n",
       "      <td>30.814</td>\n",
       "    </tr>\n",
       "    <tr>\n",
       "      <th>3</th>\n",
       "      <td>2015-01-04</td>\n",
       "      <td>23,98</td>\n",
       "      <td>21,5</td>\n",
       "      <td>28,6</td>\n",
       "      <td>1,2</td>\n",
       "      <td>1.0</td>\n",
       "      <td>29.799</td>\n",
       "    </tr>\n",
       "    <tr>\n",
       "      <th>4</th>\n",
       "      <td>2015-01-05</td>\n",
       "      <td>23,82</td>\n",
       "      <td>21</td>\n",
       "      <td>28,3</td>\n",
       "      <td>0</td>\n",
       "      <td>0.0</td>\n",
       "      <td>28.900</td>\n",
       "    </tr>\n",
       "  </tbody>\n",
       "</table>\n",
       "</div>"
      ],
      "text/plain": [
       "         Data Temperatura Media (C) Temperatura Minima (C)  \\\n",
       "0  2015-01-01                  27,3                   23,9   \n",
       "1  2015-01-02                 27,02                   24,5   \n",
       "2  2015-01-03                 24,82                   22,4   \n",
       "3  2015-01-04                 23,98                   21,5   \n",
       "4  2015-01-05                 23,82                     21   \n",
       "\n",
       "  Temperatura Maxima (C) Precipitacao (mm)  Final de Semana  \\\n",
       "0                   32,5                 0              0.0   \n",
       "1                   33,5                 0              0.0   \n",
       "2                   29,9                 0              1.0   \n",
       "3                   28,6               1,2              1.0   \n",
       "4                   28,3                 0              0.0   \n",
       "\n",
       "   Consumo de cerveja (litros)  \n",
       "0                       25.461  \n",
       "1                       28.972  \n",
       "2                       30.814  \n",
       "3                       29.799  \n",
       "4                       28.900  "
      ]
     },
     "execution_count": 3,
     "metadata": {},
     "output_type": "execute_result"
    }
   ],
   "source": [
    "df.head()"
   ]
  },
  {
   "cell_type": "code",
   "execution_count": 4,
   "metadata": {},
   "outputs": [
    {
     "name": "stdout",
     "output_type": "stream",
     "text": [
      "<class 'pandas.core.frame.DataFrame'>\n",
      "RangeIndex: 941 entries, 0 to 940\n",
      "Data columns (total 7 columns):\n",
      " #   Column                       Non-Null Count  Dtype  \n",
      "---  ------                       --------------  -----  \n",
      " 0   Data                         365 non-null    object \n",
      " 1   Temperatura Media (C)        365 non-null    object \n",
      " 2   Temperatura Minima (C)       365 non-null    object \n",
      " 3   Temperatura Maxima (C)       365 non-null    object \n",
      " 4   Precipitacao (mm)            365 non-null    object \n",
      " 5   Final de Semana              365 non-null    float64\n",
      " 6   Consumo de cerveja (litros)  365 non-null    float64\n",
      "dtypes: float64(2), object(5)\n",
      "memory usage: 51.6+ KB\n"
     ]
    }
   ],
   "source": [
    "df.info()"
   ]
  },
  {
   "cell_type": "code",
   "execution_count": 5,
   "metadata": {},
   "outputs": [
    {
     "data": {
      "text/plain": [
       "Data                            object\n",
       "Temperatura Media (C)           object\n",
       "Temperatura Minima (C)          object\n",
       "Temperatura Maxima (C)          object\n",
       "Precipitacao (mm)               object\n",
       "Final de Semana                float64\n",
       "Consumo de cerveja (litros)    float64\n",
       "dtype: object"
      ]
     },
     "execution_count": 5,
     "metadata": {},
     "output_type": "execute_result"
    }
   ],
   "source": [
    "df.dtypes"
   ]
  },
  {
   "cell_type": "markdown",
   "metadata": {},
   "source": [
    "### 2.2 Data Cleaning"
   ]
  },
  {
   "cell_type": "code",
   "execution_count": 6,
   "metadata": {},
   "outputs": [
    {
     "data": {
      "text/plain": [
       "Index(['Data', 'Temperatura Media (C)', 'Temperatura Minima (C)',\n",
       "       'Temperatura Maxima (C)', 'Precipitacao (mm)', 'Final de Semana',\n",
       "       'Consumo de cerveja (litros)'],\n",
       "      dtype='object')"
      ]
     },
     "execution_count": 6,
     "metadata": {},
     "output_type": "execute_result"
    }
   ],
   "source": [
    "df.columns"
   ]
  },
  {
   "cell_type": "code",
   "execution_count": 7,
   "metadata": {},
   "outputs": [],
   "source": [
    "df.columns = ['datetime', 'mean_temp', 'min_temp', 'max_temp', 'precipitation', 'end_of_week', 'beer_consumption']"
   ]
  },
  {
   "cell_type": "code",
   "execution_count": 8,
   "metadata": {},
   "outputs": [
    {
     "data": {
      "text/plain": [
       "datetime            576\n",
       "mean_temp           576\n",
       "min_temp            576\n",
       "max_temp            576\n",
       "precipitation       576\n",
       "end_of_week         576\n",
       "beer_consumption    576\n",
       "dtype: int64"
      ]
     },
     "execution_count": 8,
     "metadata": {},
     "output_type": "execute_result"
    }
   ],
   "source": [
    "df.isnull().sum()"
   ]
  },
  {
   "cell_type": "code",
   "execution_count": 9,
   "metadata": {},
   "outputs": [
    {
     "data": {
      "text/html": [
       "<div>\n",
       "<style scoped>\n",
       "    .dataframe tbody tr th:only-of-type {\n",
       "        vertical-align: middle;\n",
       "    }\n",
       "\n",
       "    .dataframe tbody tr th {\n",
       "        vertical-align: top;\n",
       "    }\n",
       "\n",
       "    .dataframe thead th {\n",
       "        text-align: right;\n",
       "    }\n",
       "</style>\n",
       "<table border=\"1\" class=\"dataframe\">\n",
       "  <thead>\n",
       "    <tr style=\"text-align: right;\">\n",
       "      <th></th>\n",
       "      <th>datetime</th>\n",
       "      <th>mean_temp</th>\n",
       "      <th>min_temp</th>\n",
       "      <th>max_temp</th>\n",
       "      <th>precipitation</th>\n",
       "      <th>end_of_week</th>\n",
       "      <th>beer_consumption</th>\n",
       "    </tr>\n",
       "  </thead>\n",
       "  <tbody>\n",
       "    <tr>\n",
       "      <th>365</th>\n",
       "      <td>NaN</td>\n",
       "      <td>NaN</td>\n",
       "      <td>NaN</td>\n",
       "      <td>NaN</td>\n",
       "      <td>NaN</td>\n",
       "      <td>NaN</td>\n",
       "      <td>NaN</td>\n",
       "    </tr>\n",
       "    <tr>\n",
       "      <th>366</th>\n",
       "      <td>NaN</td>\n",
       "      <td>NaN</td>\n",
       "      <td>NaN</td>\n",
       "      <td>NaN</td>\n",
       "      <td>NaN</td>\n",
       "      <td>NaN</td>\n",
       "      <td>NaN</td>\n",
       "    </tr>\n",
       "    <tr>\n",
       "      <th>367</th>\n",
       "      <td>NaN</td>\n",
       "      <td>NaN</td>\n",
       "      <td>NaN</td>\n",
       "      <td>NaN</td>\n",
       "      <td>NaN</td>\n",
       "      <td>NaN</td>\n",
       "      <td>NaN</td>\n",
       "    </tr>\n",
       "    <tr>\n",
       "      <th>368</th>\n",
       "      <td>NaN</td>\n",
       "      <td>NaN</td>\n",
       "      <td>NaN</td>\n",
       "      <td>NaN</td>\n",
       "      <td>NaN</td>\n",
       "      <td>NaN</td>\n",
       "      <td>NaN</td>\n",
       "    </tr>\n",
       "    <tr>\n",
       "      <th>369</th>\n",
       "      <td>NaN</td>\n",
       "      <td>NaN</td>\n",
       "      <td>NaN</td>\n",
       "      <td>NaN</td>\n",
       "      <td>NaN</td>\n",
       "      <td>NaN</td>\n",
       "      <td>NaN</td>\n",
       "    </tr>\n",
       "    <tr>\n",
       "      <th>...</th>\n",
       "      <td>...</td>\n",
       "      <td>...</td>\n",
       "      <td>...</td>\n",
       "      <td>...</td>\n",
       "      <td>...</td>\n",
       "      <td>...</td>\n",
       "      <td>...</td>\n",
       "    </tr>\n",
       "    <tr>\n",
       "      <th>936</th>\n",
       "      <td>NaN</td>\n",
       "      <td>NaN</td>\n",
       "      <td>NaN</td>\n",
       "      <td>NaN</td>\n",
       "      <td>NaN</td>\n",
       "      <td>NaN</td>\n",
       "      <td>NaN</td>\n",
       "    </tr>\n",
       "    <tr>\n",
       "      <th>937</th>\n",
       "      <td>NaN</td>\n",
       "      <td>NaN</td>\n",
       "      <td>NaN</td>\n",
       "      <td>NaN</td>\n",
       "      <td>NaN</td>\n",
       "      <td>NaN</td>\n",
       "      <td>NaN</td>\n",
       "    </tr>\n",
       "    <tr>\n",
       "      <th>938</th>\n",
       "      <td>NaN</td>\n",
       "      <td>NaN</td>\n",
       "      <td>NaN</td>\n",
       "      <td>NaN</td>\n",
       "      <td>NaN</td>\n",
       "      <td>NaN</td>\n",
       "      <td>NaN</td>\n",
       "    </tr>\n",
       "    <tr>\n",
       "      <th>939</th>\n",
       "      <td>NaN</td>\n",
       "      <td>NaN</td>\n",
       "      <td>NaN</td>\n",
       "      <td>NaN</td>\n",
       "      <td>NaN</td>\n",
       "      <td>NaN</td>\n",
       "      <td>NaN</td>\n",
       "    </tr>\n",
       "    <tr>\n",
       "      <th>940</th>\n",
       "      <td>NaN</td>\n",
       "      <td>NaN</td>\n",
       "      <td>NaN</td>\n",
       "      <td>NaN</td>\n",
       "      <td>NaN</td>\n",
       "      <td>NaN</td>\n",
       "      <td>NaN</td>\n",
       "    </tr>\n",
       "  </tbody>\n",
       "</table>\n",
       "<p>576 rows × 7 columns</p>\n",
       "</div>"
      ],
      "text/plain": [
       "    datetime mean_temp min_temp max_temp precipitation  end_of_week  \\\n",
       "365      NaN       NaN      NaN      NaN           NaN          NaN   \n",
       "366      NaN       NaN      NaN      NaN           NaN          NaN   \n",
       "367      NaN       NaN      NaN      NaN           NaN          NaN   \n",
       "368      NaN       NaN      NaN      NaN           NaN          NaN   \n",
       "369      NaN       NaN      NaN      NaN           NaN          NaN   \n",
       "..       ...       ...      ...      ...           ...          ...   \n",
       "936      NaN       NaN      NaN      NaN           NaN          NaN   \n",
       "937      NaN       NaN      NaN      NaN           NaN          NaN   \n",
       "938      NaN       NaN      NaN      NaN           NaN          NaN   \n",
       "939      NaN       NaN      NaN      NaN           NaN          NaN   \n",
       "940      NaN       NaN      NaN      NaN           NaN          NaN   \n",
       "\n",
       "     beer_consumption  \n",
       "365               NaN  \n",
       "366               NaN  \n",
       "367               NaN  \n",
       "368               NaN  \n",
       "369               NaN  \n",
       "..                ...  \n",
       "936               NaN  \n",
       "937               NaN  \n",
       "938               NaN  \n",
       "939               NaN  \n",
       "940               NaN  \n",
       "\n",
       "[576 rows x 7 columns]"
      ]
     },
     "execution_count": 9,
     "metadata": {},
     "output_type": "execute_result"
    }
   ],
   "source": [
    "df[df.isnull().any(axis=1)]"
   ]
  },
  {
   "cell_type": "code",
   "execution_count": 10,
   "metadata": {},
   "outputs": [],
   "source": [
    "df.dropna(inplace=True)"
   ]
  },
  {
   "cell_type": "code",
   "execution_count": 11,
   "metadata": {},
   "outputs": [
    {
     "data": {
      "text/plain": [
       "np.int64(0)"
      ]
     },
     "execution_count": 11,
     "metadata": {},
     "output_type": "execute_result"
    }
   ],
   "source": [
    "df.duplicated().sum()"
   ]
  },
  {
   "cell_type": "code",
   "execution_count": 12,
   "metadata": {},
   "outputs": [],
   "source": [
    "df['datetime'] = pd.to_datetime(df['datetime'])"
   ]
  },
  {
   "cell_type": "code",
   "execution_count": 13,
   "metadata": {},
   "outputs": [],
   "source": [
    "df['min_temp'] = df['min_temp'].apply(lambda x: x.replace(',', '.')).astype(float)\n",
    "df['mean_temp'] = df['mean_temp'].apply(lambda x: x.replace(',', '.')).astype(float)\n",
    "df['max_temp'] = df['max_temp'].apply(lambda x: x.replace(',', '.')).astype(float)\n",
    "df['precipitation'] = df['precipitation'].apply(lambda x: x.replace(',', '.')).astype(float)"
   ]
  },
  {
   "cell_type": "code",
   "execution_count": 14,
   "metadata": {},
   "outputs": [],
   "source": [
    "df['end_of_week'] = df['end_of_week'].apply(lambda x: 1 if x else 0)"
   ]
  },
  {
   "cell_type": "markdown",
   "metadata": {},
   "source": [
    "### 2.3 Data Visualization"
   ]
  },
  {
   "cell_type": "markdown",
   "metadata": {},
   "source": [
    "### 2.4 Handle Missing Values"
   ]
  },
  {
   "cell_type": "code",
   "execution_count": 15,
   "metadata": {},
   "outputs": [
    {
     "data": {
      "text/plain": [
       "datetime            0\n",
       "mean_temp           0\n",
       "min_temp            0\n",
       "max_temp            0\n",
       "precipitation       0\n",
       "end_of_week         0\n",
       "beer_consumption    0\n",
       "dtype: int64"
      ]
     },
     "execution_count": 15,
     "metadata": {},
     "output_type": "execute_result"
    }
   ],
   "source": [
    "df.isna().sum()"
   ]
  },
  {
   "cell_type": "markdown",
   "metadata": {},
   "source": [
    "### 2.5 Outlier Handling"
   ]
  },
  {
   "cell_type": "code",
   "execution_count": 16,
   "metadata": {},
   "outputs": [],
   "source": [
    "float_cols = df.select_dtypes(include=['float64']).columns"
   ]
  },
  {
   "cell_type": "code",
   "execution_count": 17,
   "metadata": {},
   "outputs": [],
   "source": [
    "import matplotlib.pyplot as plt\n",
    "import math\n",
    "import pandas as pd\n",
    "from scipy.stats import zscore, iqr\n",
    "from sklearn.ensemble import IsolationForest\n",
    "import numpy as np\n",
    "\n",
    "def iqr_outliers(df, columns, iqr_factor=1.5, remove=False, return_index = False):\n",
    "    outliers_info = {}\n",
    "    outliers_indexs = set()\n",
    "\n",
    "    for column in columns:\n",
    "        Q1 = np.percentile(df[column].dropna(), 25)\n",
    "        Q3 = np.percentile(df[column].dropna(), 75)\n",
    "        IQR = iqr(df[column].dropna())\n",
    "\n",
    "        lim_inf = Q1 - iqr_factor * IQR\n",
    "        lim_sup = Q3 + iqr_factor * IQR\n",
    "        outliers = df[(df[column] < lim_inf) | (df[column] > lim_sup)]\n",
    "\n",
    "        if not outliers.empty:\n",
    "          outliers_info[column] = len(outliers)\n",
    "          outliers_indexs.update(outliers.index)\n",
    "\n",
    "    df_results = pd.DataFrame(outliers_info, index=['outliers']).T\n",
    "    \n",
    "    if remove:\n",
    "        df.drop(index=outliers_indexs, inplace=True)\n",
    "        df.reset_index(drop=True,inplace=True)\n",
    "        print(f'\\n{len(outliers_indexs)} were removed.')\n",
    "    \n",
    "    if return_index:\n",
    "        return outliers_indexs\n",
    "    else: \n",
    "        return df_results\n",
    "\n",
    "def plot_boxplots(df, columns, n_cols=3, figsize=(5, 4)):\n",
    "    n_rows = math.ceil(len(columns) / n_cols)\n",
    "\n",
    "    fig, axes = plt.subplots(n_rows, n_cols, figsize=figsize)\n",
    "    axes = axes.flatten()\n",
    "\n",
    "    for i, column in enumerate(columns):\n",
    "        df.boxplot(column=column, ax=axes[i])\n",
    "        axes[i].set_title(column)\n",
    "\n",
    "    for j in range(i + 1, len(axes)):\n",
    "        fig.delaxes(axes[j])\n",
    "\n",
    "    plt.tight_layout()\n",
    "    plt.show()\n",
    "\n",
    "\n",
    "def z_score_outliers(df, cols, threshold=3, remove=False, return_index=False):\n",
    "    outliers_info = {}\n",
    "    outliers_indexs = set()\n",
    "\n",
    "    for col in cols:\n",
    "        z_scores = zscore(df[col].dropna())\n",
    "\n",
    "        outliers = df[col][(z_scores > threshold) | (z_scores < -threshold)]\n",
    "\n",
    "        if not outliers.empty:\n",
    "            outliers_info[col] = len(outliers)\n",
    "            outliers_indexs.update(outliers.index)\n",
    " \n",
    "    df_results = pd.DataFrame(outliers_info, index=['outliers']).T\n",
    "\n",
    "    if remove:\n",
    "        df.drop(index=outliers_indexs, inplace=True)\n",
    "        df.reset_index(drop=True,inplace=True)\n",
    "        print(f'\\n{len(outliers_indexs)} were removed.')\n",
    "    \n",
    "    if return_index:\n",
    "        return outliers_indexs\n",
    "    else: \n",
    "        return df_results\n",
    "\n",
    "def isolation_forest_outliers(df, columns, contamination=0.05, remove=False, return_index=False):\n",
    "    outliers_info = {}\n",
    "    \n",
    "    iso_for = IsolationForest(contamination=contamination)\n",
    "    df_copy = df.copy()\n",
    "    df_copy['outlier_score'] = iso_for.fit_predict(df_copy[columns])\n",
    "    \n",
    "    outliers = df_copy[df_copy['outlier_score'] == -1]\n",
    "    outliers_index = outliers.index.tolist()\n",
    "\n",
    "    if remove:\n",
    "        df.drop(index=outliers_index, inplace=True)\n",
    "        df.reset_index(drop=True,inplace=True)\n",
    "        print(f'{len(outliers_index)} were dropped')\n",
    "\n",
    "    if return_index:\n",
    "        return outliers_index\n",
    "    else:\n",
    "        return print(f'{len(outliers)} outliers')"
   ]
  },
  {
   "cell_type": "code",
   "execution_count": 18,
   "metadata": {},
   "outputs": [
    {
     "data": {
      "text/html": [
       "<div>\n",
       "<style scoped>\n",
       "    .dataframe tbody tr th:only-of-type {\n",
       "        vertical-align: middle;\n",
       "    }\n",
       "\n",
       "    .dataframe tbody tr th {\n",
       "        vertical-align: top;\n",
       "    }\n",
       "\n",
       "    .dataframe thead th {\n",
       "        text-align: right;\n",
       "    }\n",
       "</style>\n",
       "<table border=\"1\" class=\"dataframe\">\n",
       "  <thead>\n",
       "    <tr style=\"text-align: right;\">\n",
       "      <th></th>\n",
       "      <th>outliers</th>\n",
       "    </tr>\n",
       "  </thead>\n",
       "  <tbody>\n",
       "    <tr>\n",
       "      <th>max_temp</th>\n",
       "      <td>1</td>\n",
       "    </tr>\n",
       "    <tr>\n",
       "      <th>precipitation</th>\n",
       "      <td>64</td>\n",
       "    </tr>\n",
       "  </tbody>\n",
       "</table>\n",
       "</div>"
      ],
      "text/plain": [
       "               outliers\n",
       "max_temp              1\n",
       "precipitation        64"
      ]
     },
     "execution_count": 18,
     "metadata": {},
     "output_type": "execute_result"
    }
   ],
   "source": [
    "iqr_outliers(df, float_cols, iqr_factor=1.5,return_index=False)"
   ]
  },
  {
   "cell_type": "code",
   "execution_count": 19,
   "metadata": {},
   "outputs": [
    {
     "data": {
      "image/png": "[encoded data removed]",
      "text/plain": [
       "<Figure size 600x600 with 5 Axes>"
      ]
     },
     "metadata": {},
     "output_type": "display_data"
    }
   ],
   "source": [
    "plot_boxplots(df, float_cols, n_cols=3, figsize=(6, 6))"
   ]
  },
  {
   "cell_type": "code",
   "execution_count": 20,
   "metadata": {},
   "outputs": [
    {
     "data": {
      "text/html": [
       "<div>\n",
       "<style scoped>\n",
       "    .dataframe tbody tr th:only-of-type {\n",
       "        vertical-align: middle;\n",
       "    }\n",
       "\n",
       "    .dataframe tbody tr th {\n",
       "        vertical-align: top;\n",
       "    }\n",
       "\n",
       "    .dataframe thead th {\n",
       "        text-align: right;\n",
       "    }\n",
       "</style>\n",
       "<table border=\"1\" class=\"dataframe\">\n",
       "  <thead>\n",
       "    <tr style=\"text-align: right;\">\n",
       "      <th></th>\n",
       "      <th>outliers</th>\n",
       "    </tr>\n",
       "  </thead>\n",
       "  <tbody>\n",
       "    <tr>\n",
       "      <th>precipitation</th>\n",
       "      <td>8</td>\n",
       "    </tr>\n",
       "  </tbody>\n",
       "</table>\n",
       "</div>"
      ],
      "text/plain": [
       "               outliers\n",
       "precipitation         8"
      ]
     },
     "execution_count": 20,
     "metadata": {},
     "output_type": "execute_result"
    }
   ],
   "source": [
    "z_score_outliers(df, float_cols, threshold=3,return_index=False)"
   ]
  },
  {
   "cell_type": "code",
   "execution_count": 21,
   "metadata": {},
   "outputs": [
    {
     "name": "stdout",
     "output_type": "stream",
     "text": [
      "19 outliers\n"
     ]
    }
   ],
   "source": [
    "isolation_forest_outliers(df, float_cols)"
   ]
  },
  {
   "cell_type": "markdown",
   "metadata": {},
   "source": [
    "I don't drop any rows because I don't consider outliers can impact the results."
   ]
  },
  {
   "cell_type": "markdown",
   "metadata": {},
   "source": [
    "### 2.6 Feature Engineering"
   ]
  },
  {
   "cell_type": "markdown",
   "metadata": {},
   "source": [
    "#### 2.6.1 Feature Selection"
   ]
  },
  {
   "cell_type": "markdown",
   "metadata": {},
   "source": [
    "##### Continous -> Continous"
   ]
  },
  {
   "cell_type": "code",
   "execution_count": 22,
   "metadata": {},
   "outputs": [],
   "source": [
    "def corr_pearson(df, features,target , method='pearson', show_plot=False):\n",
    "    \n",
    "    float_cols = features.append(pd.Index([target]))\n",
    "    df = df[float_cols]\n",
    "    corr_info = df.corr(method=method)\n",
    "\n",
    "    if show_plot:\n",
    "        plt.figure(figsize=(10, 8))\n",
    "        sns.heatmap(corr_info, annot=True, cmap='coolwarm', center=0)\n",
    "        plt.show()\n",
    "    else:\n",
    "        corr_info = corr_info[target].sort_values(ascending=False)\n",
    "        return corr_info"
   ]
  },
  {
   "cell_type": "code",
   "execution_count": 23,
   "metadata": {},
   "outputs": [],
   "source": [
    "def corr_spearman(df,features,target):\n",
    "\n",
    "    corr_info = []\n",
    "\n",
    "    for feature in features:\n",
    "        spearman_corr = df[feature].corr(df[target], method=\"spearman\")\n",
    "        corr_info.append({\n",
    "            \"Feature\": feature,\n",
    "            \"Spearman Correlation\": spearman_corr\n",
    "        })\n",
    "    \n",
    "    return pd.DataFrame(corr_info).sort_values('Spearman Correlation', ascending=False)"
   ]
  },
  {
   "cell_type": "code",
   "execution_count": 24,
   "metadata": {},
   "outputs": [],
   "source": [
    "from sklearn.feature_selection import mutual_info_regression\n",
    "\n",
    "def mutual_info(df, features, target):\n",
    "    results = mutual_info_regression(df[features], df[target])\n",
    "    results = pd.Series(results, index=features)\n",
    "    return results.sort_values(ascending=False)"
   ]
  },
  {
   "cell_type": "code",
   "execution_count": 25,
   "metadata": {},
   "outputs": [],
   "source": [
    "float_features = float_cols.drop('beer_consumption')"
   ]
  },
  {
   "cell_type": "code",
   "execution_count": 26,
   "metadata": {},
   "outputs": [
    {
     "data": {
      "text/plain": [
       "beer_consumption    1.000000\n",
       "max_temp            0.642672\n",
       "mean_temp           0.574615\n",
       "min_temp            0.392509\n",
       "precipitation      -0.193784\n",
       "Name: beer_consumption, dtype: float64"
      ]
     },
     "execution_count": 26,
     "metadata": {},
     "output_type": "execute_result"
    }
   ],
   "source": [
    "corr_pearson(df, float_features, 'beer_consumption', show_plot=False)"
   ]
  },
  {
   "cell_type": "code",
   "execution_count": 27,
   "metadata": {},
   "outputs": [
    {
     "data": {
      "text/html": [
       "<div>\n",
       "<style scoped>\n",
       "    .dataframe tbody tr th:only-of-type {\n",
       "        vertical-align: middle;\n",
       "    }\n",
       "\n",
       "    .dataframe tbody tr th {\n",
       "        vertical-align: top;\n",
       "    }\n",
       "\n",
       "    .dataframe thead th {\n",
       "        text-align: right;\n",
       "    }\n",
       "</style>\n",
       "<table border=\"1\" class=\"dataframe\">\n",
       "  <thead>\n",
       "    <tr style=\"text-align: right;\">\n",
       "      <th></th>\n",
       "      <th>Feature</th>\n",
       "      <th>Spearman Correlation</th>\n",
       "    </tr>\n",
       "  </thead>\n",
       "  <tbody>\n",
       "    <tr>\n",
       "      <th>2</th>\n",
       "      <td>max_temp</td>\n",
       "      <td>0.641289</td>\n",
       "    </tr>\n",
       "    <tr>\n",
       "      <th>0</th>\n",
       "      <td>mean_temp</td>\n",
       "      <td>0.569998</td>\n",
       "    </tr>\n",
       "    <tr>\n",
       "      <th>1</th>\n",
       "      <td>min_temp</td>\n",
       "      <td>0.391495</td>\n",
       "    </tr>\n",
       "    <tr>\n",
       "      <th>3</th>\n",
       "      <td>precipitation</td>\n",
       "      <td>-0.172381</td>\n",
       "    </tr>\n",
       "  </tbody>\n",
       "</table>\n",
       "</div>"
      ],
      "text/plain": [
       "         Feature  Spearman Correlation\n",
       "2       max_temp              0.641289\n",
       "0      mean_temp              0.569998\n",
       "1       min_temp              0.391495\n",
       "3  precipitation             -0.172381"
      ]
     },
     "execution_count": 27,
     "metadata": {},
     "output_type": "execute_result"
    }
   ],
   "source": [
    "corr_spearman(df,float_features , 'beer_consumption')"
   ]
  },
  {
   "cell_type": "code",
   "execution_count": 28,
   "metadata": {},
   "outputs": [
    {
     "data": {
      "text/plain": [
       "max_temp         0.296725\n",
       "mean_temp        0.227284\n",
       "min_temp         0.106666\n",
       "precipitation    0.060412\n",
       "dtype: float64"
      ]
     },
     "execution_count": 28,
     "metadata": {},
     "output_type": "execute_result"
    }
   ],
   "source": [
    "mutual_info(df,float_features , 'beer_consumption')"
   ]
  },
  {
   "cell_type": "markdown",
   "metadata": {},
   "source": [
    "#### categorical -> continous"
   ]
  },
  {
   "cell_type": "code",
   "execution_count": 29,
   "metadata": {},
   "outputs": [],
   "source": [
    "from scipy.stats import f_oneway\n",
    "\n",
    "def one_way_anova(df, features, target, return_results = False):\n",
    "    results = []\n",
    "    important_features = []\n",
    "    no_important_features = []\n",
    "\n",
    "    for feature in features:\n",
    "        groups = [df[df[feature] == group][target].dropna() for group in df[feature].unique()]\n",
    "        f_stat, p_value = f_oneway(*groups)\n",
    "\n",
    "        if p_value < 0.05:\n",
    "            important_features.append(feature)\n",
    "            is_important = True\n",
    "        else:\n",
    "            no_important_features.append(feature)\n",
    "            is_important = False\n",
    "        \n",
    "        results.append({\n",
    "            \"Feature\": feature,\n",
    "            \"F-Statistic\": f_stat,\n",
    "            \"P-Value\": p_value,\n",
    "            \"Is Important\": is_important\n",
    "        })\n",
    "\n",
    "    result_df = pd.DataFrame(results).sort_values('P-Value')\n",
    "\n",
    "    if return_results:\n",
    "        print(\",\".join(important_features))\n",
    "        return important_features, no_important_features\n",
    "    else:\n",
    "        return result_df"
   ]
  },
  {
   "cell_type": "code",
   "execution_count": 30,
   "metadata": {},
   "outputs": [],
   "source": [
    "categorical_features = df.select_dtypes(include=['int']).columns"
   ]
  },
  {
   "cell_type": "code",
   "execution_count": 31,
   "metadata": {},
   "outputs": [
    {
     "data": {
      "text/html": [
       "<div>\n",
       "<style scoped>\n",
       "    .dataframe tbody tr th:only-of-type {\n",
       "        vertical-align: middle;\n",
       "    }\n",
       "\n",
       "    .dataframe tbody tr th {\n",
       "        vertical-align: top;\n",
       "    }\n",
       "\n",
       "    .dataframe thead th {\n",
       "        text-align: right;\n",
       "    }\n",
       "</style>\n",
       "<table border=\"1\" class=\"dataframe\">\n",
       "  <thead>\n",
       "    <tr style=\"text-align: right;\">\n",
       "      <th></th>\n",
       "      <th>Feature</th>\n",
       "      <th>F-Statistic</th>\n",
       "      <th>P-Value</th>\n",
       "      <th>Is Important</th>\n",
       "    </tr>\n",
       "  </thead>\n",
       "  <tbody>\n",
       "    <tr>\n",
       "      <th>0</th>\n",
       "      <td>end_of_week</td>\n",
       "      <td>124.913906</td>\n",
       "      <td>4.007969e-25</td>\n",
       "      <td>True</td>\n",
       "    </tr>\n",
       "  </tbody>\n",
       "</table>\n",
       "</div>"
      ],
      "text/plain": [
       "       Feature  F-Statistic       P-Value  Is Important\n",
       "0  end_of_week   124.913906  4.007969e-25          True"
      ]
     },
     "execution_count": 31,
     "metadata": {},
     "output_type": "execute_result"
    }
   ],
   "source": [
    "one_way_anova(df, categorical_features, 'beer_consumption', return_results=False)"
   ]
  },
  {
   "cell_type": "markdown",
   "metadata": {},
   "source": [
    "#### selecting the important features"
   ]
  },
  {
   "cell_type": "code",
   "execution_count": 32,
   "metadata": {},
   "outputs": [],
   "source": [
    "df_model = df[['mean_temp', 'min_temp', 'max_temp','end_of_week', 'beer_consumption']]"
   ]
  },
  {
   "cell_type": "code",
   "execution_count": 33,
   "metadata": {},
   "outputs": [],
   "source": [
    "df_model = df[['mean_temp', 'max_temp', 'min_temp', 'end_of_week', 'beer_consumption']]"
   ]
  },
  {
   "cell_type": "markdown",
   "metadata": {},
   "source": [
    "#### 2.6.2 Feature Transformation"
   ]
  },
  {
   "cell_type": "markdown",
   "metadata": {},
   "source": [
    "### 2.7 Feature Encoding"
   ]
  },
  {
   "cell_type": "markdown",
   "metadata": {},
   "source": [
    "### 2.8 Feature Scaling"
   ]
  },
  {
   "cell_type": "markdown",
   "metadata": {},
   "source": [
    "## 3. Machine Learning Models"
   ]
  },
  {
   "cell_type": "code",
   "execution_count": 46,
   "metadata": {},
   "outputs": [],
   "source": [
    "import pandas as pd\n",
    "from sklearn.metrics import mean_absolute_error, mean_squared_error, r2_score, mean_absolute_percentage_error\n",
    "\n",
    "regression_metrics = pd.DataFrame(columns=['Model', 'MAE', 'MSE', 'RMSE', 'R²'])\n",
    "\n",
    "def save_metrics(model, y_test, y_pred):\n",
    "    global regression_metrics\n",
    "    \n",
    "    mae = mean_absolute_error(y_test, y_pred)\n",
    "    mse = mean_squared_error(y_test, y_pred)\n",
    "    rmse = mse ** 0.5\n",
    "    r2 = r2_score(y_test, y_pred)\n",
    "    mape = mean_absolute_percentage_error(y_test, y_pred)\n",
    "\n",
    "    new_row = {\n",
    "        'Model': model,\n",
    "        'MAE': mae,\n",
    "        'MSE': mse,\n",
    "        'RMSE': rmse,\n",
    "        'R²': r2,\n",
    "        'MAPE': mape\n",
    "    }\n",
    "    \n",
    "    new_row_df = pd.DataFrame([new_row]).dropna(axis=1, how='all')\n",
    "    regression_metrics = pd.concat([regression_metrics, new_row_df], ignore_index=True)"
   ]
  },
  {
   "cell_type": "code",
   "execution_count": 41,
   "metadata": {},
   "outputs": [],
   "source": [
    "import matplotlib.pyplot as plt\n",
    "import seaborn as sns\n",
    "\n",
    "def plot_residuals(y_test, y_pred):\n",
    "    residuals = y_test - y_pred\n",
    "    \n",
    "    plt.figure(figsize=(10, 6))\n",
    "    sns.histplot(residuals, kde=True, bins=30)\n",
    "    plt.title(\"Residuals Distribution\")\n",
    "    plt.xlabel(\"Residuals\")\n",
    "    plt.ylabel(\"Frequency\")\n",
    "    plt.axvline(0, color='red', linestyle='--')\n",
    "    plt.show()"
   ]
  },
  {
   "cell_type": "code",
   "execution_count": 38,
   "metadata": {},
   "outputs": [],
   "source": [
    "x_train, x_test, y_train, y_test = train_test_split(df_model.drop(columns = 'beer_consumption'), df_model['beer_consumption'], test_size=0.2, random_state=42)"
   ]
  },
  {
   "cell_type": "markdown",
   "metadata": {},
   "source": [
    "### 3.1 Linear Regression"
   ]
  },
  {
   "cell_type": "code",
   "execution_count": 56,
   "metadata": {},
   "outputs": [],
   "source": [
    "from sklearn.linear_model import LinearRegression, Lasso, Ridge, ElasticNet\n",
    "\n",
    "lr = LinearRegression()\n",
    "lr.fit(x_train, y_train)\n",
    "y_pred_1 = lr.predict(x_test)\n",
    "\n",
    "save_metrics('Linear Regression', y_test, y_pred_1)"
   ]
  },
  {
   "cell_type": "code",
   "execution_count": 51,
   "metadata": {},
   "outputs": [],
   "source": [
    "lr_lasso = Lasso()\n",
    "lr_lasso.fit(x_train, y_train)\n",
    "y_pred_2 = lr_lasso.predict(x_test)\n",
    "\n",
    "save_metrics('Lasso', y_test, y_pred_2)"
   ]
  },
  {
   "cell_type": "code",
   "execution_count": 53,
   "metadata": {},
   "outputs": [],
   "source": [
    "lr_ridge= Ridge()\n",
    "lr_ridge.fit(x_train, y_train)\n",
    "y_pred_3 = lr_ridge.predict(x_test)\n",
    "\n",
    "save_metrics('Ridge', y_test, y_pred_3)"
   ]
  },
  {
   "cell_type": "code",
   "execution_count": 57,
   "metadata": {},
   "outputs": [],
   "source": [
    "lr_elasticnet = ElasticNet()\n",
    "lr_elasticnet.fit(x_train, y_train)\n",
    "y_pred_4 = lr_elasticnet.predict(x_test)\n",
    "\n",
    "save_metrics('ElasticNet', y_test, y_pred_4)"
   ]
  },
  {
   "cell_type": "markdown",
   "metadata": {},
   "source": [
    "### 3.2 DecisionTreeRegressor"
   ]
  },
  {
   "cell_type": "code",
   "execution_count": 61,
   "metadata": {},
   "outputs": [],
   "source": [
    "from sklearn.tree import DecisionTreeRegressor\n",
    "dtr = DecisionTreeRegressor(criterion=\"squared_error\", max_depth=3)\n",
    "dtr.fit(x_train, y_train)\n",
    "y_pred_5 = dtr.predict(x_test)\n",
    "save_metrics('Decision Tree Regressor', y_test, y_pred_5)"
   ]
  },
  {
   "cell_type": "markdown",
   "metadata": {},
   "source": [
    "### 3.3 Gradient Boosting Regressor"
   ]
  },
  {
   "cell_type": "code",
   "execution_count": 62,
   "metadata": {},
   "outputs": [
    {
     "data": {
      "text/html": [
       "<div>\n",
       "<style scoped>\n",
       "    .dataframe tbody tr th:only-of-type {\n",
       "        vertical-align: middle;\n",
       "    }\n",
       "\n",
       "    .dataframe tbody tr th {\n",
       "        vertical-align: top;\n",
       "    }\n",
       "\n",
       "    .dataframe thead th {\n",
       "        text-align: right;\n",
       "    }\n",
       "</style>\n",
       "<table border=\"1\" class=\"dataframe\">\n",
       "  <thead>\n",
       "    <tr style=\"text-align: right;\">\n",
       "      <th></th>\n",
       "      <th>Model</th>\n",
       "      <th>MAE</th>\n",
       "      <th>MSE</th>\n",
       "      <th>RMSE</th>\n",
       "      <th>R²</th>\n",
       "      <th>MAPE</th>\n",
       "    </tr>\n",
       "  </thead>\n",
       "  <tbody>\n",
       "    <tr>\n",
       "      <th>0</th>\n",
       "      <td>Linear Regression</td>\n",
       "      <td>2.168775</td>\n",
       "      <td>6.955511</td>\n",
       "      <td>2.637330</td>\n",
       "      <td>0.686110</td>\n",
       "      <td>0.084322</td>\n",
       "    </tr>\n",
       "    <tr>\n",
       "      <th>1</th>\n",
       "      <td>Linear Regression</td>\n",
       "      <td>3.007206</td>\n",
       "      <td>14.021036</td>\n",
       "      <td>3.744467</td>\n",
       "      <td>0.367255</td>\n",
       "      <td>0.112653</td>\n",
       "    </tr>\n",
       "    <tr>\n",
       "      <th>2</th>\n",
       "      <td>Lasso</td>\n",
       "      <td>3.007206</td>\n",
       "      <td>14.021036</td>\n",
       "      <td>3.744467</td>\n",
       "      <td>0.367255</td>\n",
       "      <td>0.112653</td>\n",
       "    </tr>\n",
       "    <tr>\n",
       "      <th>3</th>\n",
       "      <td>Ridge</td>\n",
       "      <td>2.171058</td>\n",
       "      <td>6.958449</td>\n",
       "      <td>2.637887</td>\n",
       "      <td>0.685978</td>\n",
       "      <td>0.084351</td>\n",
       "    </tr>\n",
       "    <tr>\n",
       "      <th>4</th>\n",
       "      <td>Linear Regression</td>\n",
       "      <td>2.168775</td>\n",
       "      <td>6.955511</td>\n",
       "      <td>2.637330</td>\n",
       "      <td>0.686110</td>\n",
       "      <td>0.084322</td>\n",
       "    </tr>\n",
       "    <tr>\n",
       "      <th>5</th>\n",
       "      <td>ElasticNet</td>\n",
       "      <td>2.795295</td>\n",
       "      <td>12.197563</td>\n",
       "      <td>3.492501</td>\n",
       "      <td>0.449546</td>\n",
       "      <td>0.104997</td>\n",
       "    </tr>\n",
       "    <tr>\n",
       "      <th>6</th>\n",
       "      <td>Decision Tree Regressor</td>\n",
       "      <td>2.237720</td>\n",
       "      <td>7.721954</td>\n",
       "      <td>2.778840</td>\n",
       "      <td>0.651522</td>\n",
       "      <td>0.086848</td>\n",
       "    </tr>\n",
       "  </tbody>\n",
       "</table>\n",
       "</div>"
      ],
      "text/plain": [
       "                     Model       MAE        MSE      RMSE        R²      MAPE\n",
       "0        Linear Regression  2.168775   6.955511  2.637330  0.686110  0.084322\n",
       "1        Linear Regression  3.007206  14.021036  3.744467  0.367255  0.112653\n",
       "2                    Lasso  3.007206  14.021036  3.744467  0.367255  0.112653\n",
       "3                    Ridge  2.171058   6.958449  2.637887  0.685978  0.084351\n",
       "4        Linear Regression  2.168775   6.955511  2.637330  0.686110  0.084322\n",
       "5               ElasticNet  2.795295  12.197563  3.492501  0.449546  0.104997\n",
       "6  Decision Tree Regressor  2.237720   7.721954  2.778840  0.651522  0.086848"
      ]
     },
     "execution_count": 62,
     "metadata": {},
     "output_type": "execute_result"
    }
   ],
   "source": [
    "regression_metrics"
   ]
  },
  {
   "cell_type": "code",
   "execution_count": null,
   "metadata": {},
   "outputs": [],
   "source": []
  },
  {
   "cell_type": "code",
   "execution_count": null,
   "metadata": {},
   "outputs": [],
   "source": []
  },
  {
   "cell_type": "code",
   "execution_count": null,
   "metadata": {},
   "outputs": [],
   "source": []
  },
  {
   "cell_type": "code",
   "execution_count": null,
   "metadata": {},
   "outputs": [],
   "source": []
  },
  {
   "cell_type": "code",
   "execution_count": null,
   "metadata": {},
   "outputs": [],
   "source": []
  },
  {
   "cell_type": "code",
   "execution_count": null,
   "metadata": {},
   "outputs": [],
   "source": []
  },
  {
   "cell_type": "code",
   "execution_count": null,
   "metadata": {},
   "outputs": [],
   "source": []
  },
  {
   "cell_type": "code",
   "execution_count": null,
   "metadata": {},
   "outputs": [],
   "source": []
  },
  {
   "cell_type": "code",
   "execution_count": 191,
   "metadata": {},
   "outputs": [],
   "source": [
    "def estacion_bra(fecha):\n",
    "    if fecha.month == 12 and fecha.day >= 21 or fecha.month in [1, 2] or (fecha.month == 3 and fecha.day <= 20):\n",
    "        return 'Verano'\n",
    "    elif fecha.month == 3 and fecha.day >= 21 or fecha.month in [4, 5] or (fecha.month == 6 and fecha.day <= 20):\n",
    "        return 'Otoño'\n",
    "    elif fecha.month == 6 and fecha.day >= 21 or fecha.month in [7, 8] or (fecha.month == 9 and fecha.day <= 20):\n",
    "        return 'Invierno'\n",
    "    elif fecha.month == 9 and fecha.day >= 21 or fecha.month in [10, 11] or (fecha.month == 12 and fecha.day <= 20):\n",
    "        return 'Primavera'\n",
    "\n",
    "\n",
    "# Aplica la función para categorizar las fechas por estaciones\n",
    "df['estacion'] = df['fecha'].apply(estacion_bra)"
   ]
  },
  {
   "cell_type": "code",
   "execution_count": 192,
   "metadata": {},
   "outputs": [],
   "source": [
    "df.drop(columns='fecha',inplace=True)"
   ]
  },
  {
   "cell_type": "code",
   "execution_count": 193,
   "metadata": {},
   "outputs": [],
   "source": [
    "lbl_enc = LabelEncoder()\n",
    "df['estacion'] = lbl_enc.fit_transform(df['estacion'])"
   ]
  },
  {
   "cell_type": "code",
   "execution_count": 194,
   "metadata": {},
   "outputs": [],
   "source": [
    "x_train, x_test, y_train, y_test = train_test_split(df.drop(columns='lt_de_cerveza'),df['lt_de_cerveza'],test_size=0.25)"
   ]
  },
  {
   "cell_type": "markdown",
   "metadata": {},
   "source": [
    "## Funcions"
   ]
  },
  {
   "cell_type": "code",
   "execution_count": 195,
   "metadata": {},
   "outputs": [],
   "source": [
    "metrics_list = []\n",
    "def metrics(model, y_test, predictions):\n",
    "    rmse = root_mean_squared_error(y_test, predictions)\n",
    "    mape = mean_absolute_percentage_error(y_test,predictions)\n",
    "    r2 = r2_score(y_test, predictions)\n",
    "    metrics_list.append([model.__class__.__qualname__,rmse,mape,r2])"
   ]
  },
  {
   "cell_type": "code",
   "execution_count": 196,
   "metadata": {},
   "outputs": [],
   "source": [
    "def scatter_plot(y_test, predictions, model):\n",
    "    plt.figure(figsize=(8, 4))\n",
    "    plt.scatter(y_test, predictions, color='blue', alpha=0.7)\n",
    "    plt.plot([min(y_test), max(y_test)], [min(y_test), max(y_test)], color='red', linestyle='--')  # Línea diagonal\n",
    "    plt.title(f'Scatter Plot - {model.__class__.__qualname__}')\n",
    "    plt.xlabel('True Values')\n",
    "    plt.ylabel('Predict Values')\n",
    "    plt.grid(True)\n",
    "    plt.show()"
   ]
  },
  {
   "cell_type": "code",
   "execution_count": 197,
   "metadata": {},
   "outputs": [],
   "source": [
    "def residual_plot(y_test,predictions, model):\n",
    "    residuos = [real - pred for real, pred in zip(y_test, predictions)]\n",
    "\n",
    "    plt.figure(figsize=(8, 4))\n",
    "    plt.scatter(predictions, residuos, color='blue', alpha=0.5)\n",
    "    plt.axhline(0, color='red', linestyle='--')\n",
    "    plt.title(f'Residual plot  - {model.__class__.__qualname__}')\n",
    "    plt.xlabel('Predict Values')\n",
    "    plt.ylabel('Scraps')\n",
    "    plt.grid(True)\n",
    "    plt.show()"
   ]
  },
  {
   "cell_type": "markdown",
   "metadata": {},
   "source": [
    "## LinearRegression"
   ]
  },
  {
   "cell_type": "code",
   "execution_count": 198,
   "metadata": {},
   "outputs": [],
   "source": [
    "lnlreg = LinearRegression()\n",
    "\n",
    "lnlreg.fit(x_train,y_train)\n",
    "predictions_1 = lnlreg.predict(x_test)\n",
    "metrics(lnlreg, y_test,predictions_1)"
   ]
  },
  {
   "cell_type": "code",
   "execution_count": null,
   "metadata": {},
   "outputs": [],
   "source": [
    "scatter_plot(y_test, predictions_1, lnlreg)"
   ]
  },
  {
   "cell_type": "code",
   "execution_count": null,
   "metadata": {},
   "outputs": [],
   "source": [
    "residual_plot(y_test,predictions_1, lnlreg)"
   ]
  },
  {
   "cell_type": "markdown",
   "metadata": {},
   "source": [
    "## Lasso"
   ]
  },
  {
   "cell_type": "code",
   "execution_count": 201,
   "metadata": {},
   "outputs": [],
   "source": [
    "lasso = Lasso()\n",
    "\n",
    "lasso.fit(x_train,y_train)\n",
    "predictions_2 = lasso.predict(x_test)\n",
    "metrics(lasso, y_test,predictions_2)"
   ]
  },
  {
   "cell_type": "code",
   "execution_count": null,
   "metadata": {},
   "outputs": [],
   "source": [
    "scatter_plot(y_test, predictions_2, lasso)"
   ]
  },
  {
   "cell_type": "code",
   "execution_count": null,
   "metadata": {},
   "outputs": [],
   "source": [
    "residual_plot(y_test,predictions_2, lasso)"
   ]
  },
  {
   "cell_type": "markdown",
   "metadata": {},
   "source": [
    "## Metrics"
   ]
  },
  {
   "cell_type": "code",
   "execution_count": null,
   "metadata": {},
   "outputs": [],
   "source": [
    "pd.DataFrame(metrics_list,columns=['model','rmse','mape','r2'])"
   ]
  }
 ],
 "metadata": {
  "kernelspec": {
   "display_name": ".venv",
   "language": "python",
   "name": "python3"
  },
  "language_info": {
   "codemirror_mode": {
    "name": "ipython",
    "version": 3
   },
   "file_extension": ".py",
   "mimetype": "text/x-python",
   "name": "python",
   "nbconvert_exporter": "python",
   "pygments_lexer": "ipython3",
   "version": "3.13.1"
  }
 },
 "nbformat": 4,
 "nbformat_minor": 2
}
